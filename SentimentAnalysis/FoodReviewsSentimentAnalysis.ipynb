{
 "cells": [
  {
   "cell_type": "markdown",
   "source": [
    "# 1. Read Data - Amazon Food Reviews"
   ],
   "metadata": {
    "collapsed": false
   },
   "id": "52be970f9b2fe0a9"
  },
  {
   "cell_type": "code",
   "execution_count": 2,
   "outputs": [],
   "source": [
    "# Import necessary libraries\n",
    "import pandas as pd\n",
    "import numpy as np\n",
    "import matplotlib.pyplot as plt\n",
    "import seaborn as sns\n",
    "\n",
    "plt.style.use('default')\n",
    "\n",
    "import nltk"
   ],
   "metadata": {
    "collapsed": true,
    "ExecuteTime": {
     "end_time": "2023-12-31T13:56:11.709735800Z",
     "start_time": "2023-12-31T13:56:09.427404100Z"
    }
   },
   "id": "initial_id"
  },
  {
   "cell_type": "code",
   "execution_count": 4,
   "outputs": [
    {
     "name": "stdout",
     "output_type": "stream",
     "text": [
      "(568454, 10)\n"
     ]
    },
    {
     "data": {
      "text/plain": "   Id   ProductId          UserId                      ProfileName  \\\n0   1  B001E4KFG0  A3SGXH7AUHU8GW                       delmartian   \n1   2  B00813GRG4  A1D87F6ZCVE5NK                           dll pa   \n2   3  B000LQOCH0   ABXLMWJIXXAIN  Natalia Corres \"Natalia Corres\"   \n3   4  B000UA0QIQ  A395BORC6FGVXV                             Karl   \n4   5  B006K2ZZ7K  A1UQRSCLF8GW1T    Michael D. Bigham \"M. Wassir\"   \n\n   HelpfulnessNumerator  HelpfulnessDenominator  Score        Time  \\\n0                     1                       1      5  1303862400   \n1                     0                       0      1  1346976000   \n2                     1                       1      4  1219017600   \n3                     3                       3      2  1307923200   \n4                     0                       0      5  1350777600   \n\n                 Summary                                               Text  \n0  Good Quality Dog Food  I have bought several of the Vitality canned d...  \n1      Not as Advertised  Product arrived labeled as Jumbo Salted Peanut...  \n2  \"Delight\" says it all  This is a confection that has been around a fe...  \n3         Cough Medicine  If you are looking for the secret ingredient i...  \n4            Great taffy  Great taffy at a great price.  There was a wid...  ",
      "text/html": "<div>\n<style scoped>\n    .dataframe tbody tr th:only-of-type {\n        vertical-align: middle;\n    }\n\n    .dataframe tbody tr th {\n        vertical-align: top;\n    }\n\n    .dataframe thead th {\n        text-align: right;\n    }\n</style>\n<table border=\"1\" class=\"dataframe\">\n  <thead>\n    <tr style=\"text-align: right;\">\n      <th></th>\n      <th>Id</th>\n      <th>ProductId</th>\n      <th>UserId</th>\n      <th>ProfileName</th>\n      <th>HelpfulnessNumerator</th>\n      <th>HelpfulnessDenominator</th>\n      <th>Score</th>\n      <th>Time</th>\n      <th>Summary</th>\n      <th>Text</th>\n    </tr>\n  </thead>\n  <tbody>\n    <tr>\n      <th>0</th>\n      <td>1</td>\n      <td>B001E4KFG0</td>\n      <td>A3SGXH7AUHU8GW</td>\n      <td>delmartian</td>\n      <td>1</td>\n      <td>1</td>\n      <td>5</td>\n      <td>1303862400</td>\n      <td>Good Quality Dog Food</td>\n      <td>I have bought several of the Vitality canned d...</td>\n    </tr>\n    <tr>\n      <th>1</th>\n      <td>2</td>\n      <td>B00813GRG4</td>\n      <td>A1D87F6ZCVE5NK</td>\n      <td>dll pa</td>\n      <td>0</td>\n      <td>0</td>\n      <td>1</td>\n      <td>1346976000</td>\n      <td>Not as Advertised</td>\n      <td>Product arrived labeled as Jumbo Salted Peanut...</td>\n    </tr>\n    <tr>\n      <th>2</th>\n      <td>3</td>\n      <td>B000LQOCH0</td>\n      <td>ABXLMWJIXXAIN</td>\n      <td>Natalia Corres \"Natalia Corres\"</td>\n      <td>1</td>\n      <td>1</td>\n      <td>4</td>\n      <td>1219017600</td>\n      <td>\"Delight\" says it all</td>\n      <td>This is a confection that has been around a fe...</td>\n    </tr>\n    <tr>\n      <th>3</th>\n      <td>4</td>\n      <td>B000UA0QIQ</td>\n      <td>A395BORC6FGVXV</td>\n      <td>Karl</td>\n      <td>3</td>\n      <td>3</td>\n      <td>2</td>\n      <td>1307923200</td>\n      <td>Cough Medicine</td>\n      <td>If you are looking for the secret ingredient i...</td>\n    </tr>\n    <tr>\n      <th>4</th>\n      <td>5</td>\n      <td>B006K2ZZ7K</td>\n      <td>A1UQRSCLF8GW1T</td>\n      <td>Michael D. Bigham \"M. Wassir\"</td>\n      <td>0</td>\n      <td>0</td>\n      <td>5</td>\n      <td>1350777600</td>\n      <td>Great taffy</td>\n      <td>Great taffy at a great price.  There was a wid...</td>\n    </tr>\n  </tbody>\n</table>\n</div>"
     },
     "execution_count": 4,
     "metadata": {},
     "output_type": "execute_result"
    }
   ],
   "source": [
    "# Read in data\n",
    "df = pd.read_csv('./data/Reviews.csv')\n",
    "print(df.shape)\n",
    "df.head()"
   ],
   "metadata": {
    "collapsed": false,
    "ExecuteTime": {
     "end_time": "2023-12-31T13:56:44.543520200Z",
     "start_time": "2023-12-31T13:56:37.272552300Z"
    }
   },
   "id": "28702af9e11f43bc"
  },
  {
   "cell_type": "code",
   "execution_count": 7,
   "outputs": [
    {
     "data": {
      "text/plain": "<Figure size 1000x500 with 1 Axes>",
      "image/png": "[encoded data removed]"
     },
     "metadata": {},
     "output_type": "display_data"
    }
   ],
   "source": [
    "ax = df['Score'].value_counts().sort_index() \\\n",
    "    .plot(kind='bar',\n",
    "          title='Review Counts by Stars',\n",
    "          figsize=(10, 5))\n",
    "ax.set_xlabel(\"Stars of Review\")\n",
    "ax.set_ylabel(\"Number of Reviews\")\n",
    "plt.show()\n"
   ],
   "metadata": {
    "collapsed": false,
    "ExecuteTime": {
     "end_time": "2023-12-31T14:02:04.838435600Z",
     "start_time": "2023-12-31T14:02:04.126760100Z"
    }
   },
   "id": "155856a1bfd53787"
  },
  {
   "cell_type": "markdown",
   "source": [
    "# 2. Sentence Processing"
   ],
   "metadata": {
    "collapsed": false
   },
   "id": "d022b459a5466e09"
  },
  {
   "cell_type": "code",
   "execution_count": 75,
   "outputs": [
    {
     "name": "stdout",
     "output_type": "stream",
     "text": [
      "I decided to try these based on the reviews - they are pretty good - especially for a more healthy option, but not sure I'll get them again.\n"
     ]
    }
   ],
   "source": [
    "# Extract sample review\n",
    "sample = df['Text'][1794]\n",
    "print(sample)"
   ],
   "metadata": {
    "collapsed": false,
    "ExecuteTime": {
     "end_time": "2023-12-31T14:11:03.227181Z",
     "start_time": "2023-12-31T14:11:03.212708200Z"
    }
   },
   "id": "bce00fea6d5e036e"
  },
  {
   "cell_type": "code",
   "execution_count": 77,
   "outputs": [
    {
     "name": "stdout",
     "output_type": "stream",
     "text": [
      "['I', 'decided', 'to', 'try', 'these', 'based', 'on', 'the', 'reviews', '-', 'they', 'are', 'pretty', 'good', '-', 'especially', 'for', 'a', 'more', 'healthy', 'option', ',', 'but', 'not', 'sure', 'I', \"'ll\", 'get', 'them', 'again', '.']\n"
     ]
    }
   ],
   "source": [
    "# Tokenization\n",
    "tokens = nltk.word_tokenize(sample)\n",
    "print(tokens)"
   ],
   "metadata": {
    "collapsed": false,
    "ExecuteTime": {
     "end_time": "2023-12-31T14:11:48.838288900Z",
     "start_time": "2023-12-31T14:11:48.809362300Z"
    }
   },
   "id": "5c08b8f472edacaf"
  },
  {
   "cell_type": "code",
   "execution_count": 79,
   "outputs": [
    {
     "name": "stdout",
     "output_type": "stream",
     "text": [
      "[('I', 'PRP'), ('decided', 'VBD'), ('to', 'TO'), ('try', 'VB'), ('these', 'DT'), ('based', 'VBN'), ('on', 'IN'), ('the', 'DT'), ('reviews', 'NNS'), ('-', ':')]\n"
     ]
    }
   ],
   "source": [
    "# Part of speech analysis\n",
    "pos_tagged = nltk.pos_tag(tokens)\n",
    "print(pos_tagged[:10])"
   ],
   "metadata": {
    "collapsed": false,
    "ExecuteTime": {
     "end_time": "2023-12-31T14:13:04.604143600Z",
     "start_time": "2023-12-31T14:13:04.554152200Z"
    }
   },
   "id": "7878b73a7409a3e1"
  },
  {
   "cell_type": "code",
   "execution_count": 80,
   "outputs": [
    {
     "name": "stdout",
     "output_type": "stream",
     "text": [
      "(S\n",
      "  I/PRP\n",
      "  decided/VBD\n",
      "  to/TO\n",
      "  try/VB\n",
      "  these/DT\n",
      "  based/VBN\n",
      "  on/IN\n",
      "  the/DT\n",
      "  reviews/NNS\n",
      "  -/:\n",
      "  they/PRP\n",
      "  are/VBP\n",
      "  pretty/RB\n",
      "  good/JJ\n",
      "  -/:\n",
      "  especially/RB\n",
      "  for/IN\n",
      "  a/DT\n",
      "  more/RBR\n",
      "  healthy/JJ\n",
      "  option/NN\n",
      "  ,/,\n",
      "  but/CC\n",
      "  not/RB\n",
      "  sure/JJ\n",
      "  I/PRP\n",
      "  'll/MD\n",
      "  get/VB\n",
      "  them/PRP\n",
      "  again/RB\n",
      "  ./.)\n"
     ]
    }
   ],
   "source": [
    "# Named Entities Analysis\n",
    "ne = nltk.chunk.ne_chunk(pos_tagged)\n",
    "ne.pprint()"
   ],
   "metadata": {
    "collapsed": false,
    "ExecuteTime": {
     "end_time": "2023-12-31T14:15:11.597845Z",
     "start_time": "2023-12-31T14:15:11.392491500Z"
    }
   },
   "id": "467651a8ba6db838"
  },
  {
   "cell_type": "markdown",
   "source": [
    "# 3. Analysis of different models for sentiment analysis"
   ],
   "metadata": {
    "collapsed": false
   },
   "id": "b11ed4b7375506da"
  },
  {
   "cell_type": "markdown",
   "source": [
    "## 3.1 My model using TF-IDF - an improved version of the bag-of-words approach"
   ],
   "metadata": {
    "collapsed": false
   },
   "id": "9f7e96c7281fbdf9"
  },
  {
   "cell_type": "code",
   "execution_count": 82,
   "outputs": [],
   "source": [
    "import pandas as pd\n",
    "import numpy as np\n",
    "from sklearn.feature_extraction.text import re \n",
    "from sklearn.feature_extraction.text import TfidfVectorizer\n",
    "from sklearn.model_selection import train_test_split\n",
    "from sklearn.linear_model import LogisticRegression\n",
    "from sklearn.metrics import accuracy_score\n",
    "df = pd.read_csv('./data/Reviews.csv') "
   ],
   "metadata": {
    "collapsed": false,
    "ExecuteTime": {
     "end_time": "2023-12-31T14:28:07.020521600Z",
     "start_time": "2023-12-31T14:28:00.513581600Z"
    }
   },
   "id": "827e7e81d536efb"
  },
  {
   "cell_type": "code",
   "execution_count": 86,
   "outputs": [
    {
     "name": "stdout",
     "output_type": "stream",
     "text": [
      "                                                     Text  Sentiment\n",
      "0       I have bought several of the Vitality canned d...          1\n",
      "1       Product arrived labeled as Jumbo Salted Peanut...         -1\n",
      "2       This is a confection that has been around a fe...          1\n",
      "3       If you are looking for the secret ingredient i...         -1\n",
      "4       Great taffy at a great price.  There was a wid...          1\n",
      "...                                                   ...        ...\n",
      "568449  Great for sesame chicken..this is a good if no...          1\n",
      "568450  I'm disappointed with the flavor. The chocolat...         -1\n",
      "568451  These stars are small, so you can give 10-15 o...          1\n",
      "568452  These are the BEST treats for training and rew...          1\n",
      "568453  I am very satisfied ,product is as advertised,...          1\n",
      "\n",
      "[568454 rows x 2 columns]\n"
     ]
    }
   ],
   "source": [
    "# Turn sentiment into stricter values\n",
    "def create_sentiment(rating):\n",
    "    \n",
    "    res = 0 # neutral sentiment\n",
    "    \n",
    "    if rating==1 or rating==2:\n",
    "        res = -1 # negative sentiment\n",
    "    elif rating==4 or rating==5:\n",
    "        res = 1 # positive sentiment\n",
    "        \n",
    "    return res\n",
    "df['Sentiment'] = df['Score'].apply(create_sentiment)\n",
    "print(df[['Text', 'Sentiment']])"
   ],
   "metadata": {
    "collapsed": false,
    "ExecuteTime": {
     "end_time": "2023-12-31T14:29:44.049016300Z",
     "start_time": "2023-12-31T14:29:43.656963300Z"
    }
   },
   "id": "8c2472c803f8252a"
  },
  {
   "cell_type": "code",
   "execution_count": 89,
   "outputs": [
    {
     "name": "stdout",
     "output_type": "stream",
     "text": [
      "                                                     Text  Sentiment\n",
      "0       I have bought several of the Vitality canned d...          1\n",
      "1       Product arrived labeled as Jumbo Salted Peanut...         -1\n",
      "2       This is a confection that has been around a fe...          1\n",
      "3       If you are looking for the secret ingredient i...         -1\n",
      "4       Great taffy at a great price  There was a wide...          1\n",
      "...                                                   ...        ...\n",
      "568449  Great for sesame chickenthis is a good if not ...          1\n",
      "568450  Im disappointed with the flavor The chocolate ...         -1\n",
      "568451  These stars are small so you can give  of thos...          1\n",
      "568452  These are the BEST treats for training and rew...          1\n",
      "568453  I am very satisfied product is as advertised I...          1\n",
      "\n",
      "[568454 rows x 2 columns]\n"
     ]
    }
   ],
   "source": [
    "# Preprocess data ba cleaning punctuation and number symbols\n",
    "def clean_data(review):\n",
    "    \n",
    "    no_punc = re.sub(r'[^\\w\\s]', '', review)\n",
    "    no_digits = ''.join([i for i in no_punc if not i.isdigit()])\n",
    "    \n",
    "    return(no_digits)\n",
    "df['Text'] = df['Text'].apply(clean_data)\n",
    "print(df[['Text', 'Sentiment']])"
   ],
   "metadata": {
    "collapsed": false,
    "ExecuteTime": {
     "end_time": "2023-12-31T14:33:12.670807900Z",
     "start_time": "2023-12-31T14:32:37.898642700Z"
    }
   },
   "id": "d586a4ff566cb10f"
  },
  {
   "cell_type": "code",
   "execution_count": 96,
   "outputs": [
    {
     "name": "stdout",
     "output_type": "stream",
     "text": [
      "  (0, 122588)\t0.29145445603021997\n",
      "  (0, 254967)\t0.25388915000644535\n",
      "  (0, 60426)\t0.29722328914632834\n",
      "  (0, 185490)\t0.22717966086719316\n",
      "  (0, 196304)\t0.2330526385673418\n",
      "  (0, 158740)\t0.16401896676645902\n",
      "  (0, 126136)\t0.15252546455016622\n",
      "  (0, 204031)\t0.1524226612545809\n",
      "  (0, 250280)\t0.21871561747742768\n",
      "  (0, 255414)\t0.1672840372194188\n",
      "  (0, 130852)\t0.18841645067164292\n",
      "  (0, 271714)\t0.18014197514200267\n",
      "  (0, 86048)\t0.16630056162453277\n",
      "  (0, 91354)\t0.13144783254276968\n",
      "  (0, 234036)\t0.2744980392911747\n",
      "  (0, 254490)\t0.2001426758269706\n",
      "  (0, 103561)\t0.17515508459550622\n",
      "  (0, 139425)\t0.15798454167044973\n",
      "  (0, 184790)\t0.11462083229835413\n",
      "  (0, 170999)\t0.19070756641275435\n",
      "  (0, 195511)\t0.07801846666446176\n",
      "  (0, 97192)\t0.14918259107555434\n",
      "  (0, 155043)\t0.10560147546600375\n",
      "  (0, 172508)\t0.06929750278531344\n",
      "  (0, 271223)\t0.07984786091307189\n",
      "  :\t:\n",
      "  (426339, 22765)\t0.20380712406592028\n",
      "  (426339, 250953)\t0.16190281919496435\n",
      "  (426339, 199424)\t0.17720697864999202\n",
      "  (426339, 236152)\t0.14320458914945072\n",
      "  (426339, 84048)\t0.18315028570792705\n",
      "  (426339, 114224)\t0.2975862449996042\n",
      "  (426339, 107347)\t0.11882104267445787\n",
      "  (426339, 269672)\t0.12460240792017072\n",
      "  (426339, 118097)\t0.21402550603016804\n",
      "  (426339, 239045)\t0.1723782293157832\n",
      "  (426339, 199238)\t0.07752802595530592\n",
      "  (426339, 95501)\t0.09303255201023776\n",
      "  (426339, 184441)\t0.15618016828396955\n",
      "  (426339, 265716)\t0.09722241884751055\n",
      "  (426339, 271223)\t0.1470431782156006\n",
      "  (426339, 38865)\t0.09724419635681976\n",
      "  (426339, 267549)\t0.08126256731607663\n",
      "  (426339, 255027)\t0.06201855075294113\n",
      "  (426339, 176021)\t0.05922605642976492\n",
      "  (426339, 182780)\t0.08272394001337\n",
      "  (426339, 153375)\t0.08927009042146067\n",
      "  (426339, 256736)\t0.05204576779259002\n",
      "  (426339, 90477)\t0.09902124701821113\n",
      "  (426339, 92263)\t0.04655200113037942\n",
      "  (426339, 253565)\t0.046033033813509865\n"
     ]
    }
   ],
   "source": [
    "# Calculate TF-IDF\n",
    "tfidf = TfidfVectorizer(strip_accents=None, \n",
    "                        lowercase=False,\n",
    "                        preprocessor=None)\n",
    "X = tfidf.fit_transform(df['Text'])\n",
    "y = df['Sentiment']\n",
    "X_train, X_test, Y_train, Y_test = train_test_split(X,y)\n",
    "print(X_train)"
   ],
   "metadata": {
    "collapsed": false,
    "ExecuteTime": {
     "end_time": "2023-12-31T14:53:03.500689600Z",
     "start_time": "2023-12-31T14:51:56.586452500Z"
    }
   },
   "id": "b1883b3a1de52498"
  },
  {
   "cell_type": "code",
   "execution_count": 97,
   "outputs": [
    {
     "data": {
      "text/plain": "0.8785270979636067"
     },
     "execution_count": 97,
     "metadata": {},
     "output_type": "execute_result"
    }
   ],
   "source": [
    "# Define Logistic Regression Model\n",
    "lr = LogisticRegression(solver='liblinear')\n",
    "lr.fit(X_train,Y_train)\n",
    "preds = lr.predict(X_test)\n",
    "accuracy_score(preds,Y_test)"
   ],
   "metadata": {
    "collapsed": false,
    "ExecuteTime": {
     "end_time": "2023-12-31T14:54:24.339669500Z",
     "start_time": "2023-12-31T14:53:03.505689200Z"
    }
   },
   "id": "925224f854303d7b"
  }
 ],
 "metadata": {
  "kernelspec": {
   "display_name": "Python 3",
   "language": "python",
   "name": "python3"
  },
  "language_info": {
   "codemirror_mode": {
    "name": "ipython",
    "version": 2
   },
   "file_extension": ".py",
   "mimetype": "text/x-python",
   "name": "python",
   "nbconvert_exporter": "python",
   "pygments_lexer": "ipython2",
   "version": "2.7.6"
  }
 },
 "nbformat": 4,
 "nbformat_minor": 5
}
